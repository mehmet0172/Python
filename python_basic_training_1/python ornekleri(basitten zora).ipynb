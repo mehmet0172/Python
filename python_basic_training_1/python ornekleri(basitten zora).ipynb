{
 "cells": [
  {
   "cell_type": "markdown",
   "id": "f7b80065-2e7e-4f78-9293-a3487856eeea",
   "metadata": {},
   "source": [
    "# Girilen sayinin basamak sayisini bulma\n",
    "Ilk cozum while dongusuyle"
   ]
  },
  {
   "cell_type": "code",
   "execution_count": 2,
   "id": "fc00b228-b523-41c4-b39e-2e26955592ef",
   "metadata": {},
   "outputs": [
    {
     "name": "stdin",
     "output_type": "stream",
     "text": [
      "Lutfen basamak sayisini merak ettiginiz sayiyi giriniz:  47856248625458962578966\n"
     ]
    },
    {
     "name": "stdout",
     "output_type": "stream",
     "text": [
      "Girdiginiz sayinin basamak sayisi:  23\n"
     ]
    }
   ],
   "source": [
    "sayi_gir = abs(int(input(\"Lutfen basamak sayisini merak ettiginiz sayiyi giriniz: \")))\n",
    "sayac = 0\n",
    "\n",
    "while sayi_gir>0:\n",
    "    sayi_gir = sayi_gir//10\n",
    "    sayac+=1\n",
    "print(\"Girdiginiz sayinin basamak sayisi: \", sayac)\n"
   ]
  },
  {
   "cell_type": "markdown",
   "id": "06425549",
   "metadata": {},
   "source": [
    "# 2.Cozum import math yaparak\n"
   ]
  },
  {
   "cell_type": "code",
   "execution_count": 1,
   "id": "9de0b087-2c3b-49e6-9747-7f78fd1af098",
   "metadata": {},
   "outputs": [
    {
     "name": "stdout",
     "output_type": "stream",
     "text": [
      "Lutfen basamak sayisini merak ettiginiz sayiyi giriniz: 288658473732547478621479302145\n",
      "Girdiginiz sayinin basamak sayisi:  30\n"
     ]
    }
   ],
   "source": [
    "import math\n",
    "sayi_gir = abs(int(input(\"Lutfen basamak sayisini merak ettiginiz sayiyi giriniz: \")))\n",
    "\n",
    "if sayi_gir == 0:\n",
    "    print(\"0 girdiniz... \")\n",
    "else:\n",
    "    basamak = math.log10(sayi_gir)\n",
    "    virgulsuz_basamak = round(basamak)\n",
    "    print('Girdiginiz sayinin basamak sayisi: ', virgulsuz_basamak+1)\n"
   ]
  },
  {
   "cell_type": "markdown",
   "id": "e570ded0",
   "metadata": {},
   "source": [
    "# 3. çözümde ise sayının basamak sayısını bulmak için daha basit ve güvenilir bir yol olarak sayıyı stringe dönüştürüp bunun uzunluğunu alabiliriz:"
   ]
  },
  {
   "cell_type": "code",
   "execution_count": null,
   "id": "2fba916f",
   "metadata": {},
   "outputs": [],
   "source": []
  },
  {
   "cell_type": "code",
   "execution_count": 2,
   "id": "69863d87",
   "metadata": {},
   "outputs": [
    {
     "name": "stdout",
     "output_type": "stream",
     "text": [
      "Lutfen basamak sayisini merak ettiginiz sayiyi giriniz: 789556\n",
      "Girdiginiz sayinin basamak sayisi:  6\n"
     ]
    }
   ],
   "source": [
    "sayi_gir = abs(int(input(\"Lutfen basamak sayisini merak ettiginiz sayiyi giriniz: \")))\n",
    "\n",
    "if sayi_gir == 0:\n",
    "    print(\"0 girdiniz...\")\n",
    "else:\n",
    "    basamak = len(str(sayi_gir))\n",
    "    print('Girdiginiz sayinin basamak sayisi: ', basamak)"
   ]
  },
  {
   "cell_type": "markdown",
   "id": "917cb49c",
   "metadata": {},
   "source": [
    "# 4. cozum len() metoduyla"
   ]
  },
  {
   "cell_type": "code",
   "execution_count": 15,
   "id": "e272ba02",
   "metadata": {},
   "outputs": [
    {
     "name": "stdout",
     "output_type": "stream",
     "text": [
      "Lutfen basamak sayisini merak ettiginiz sayiyi giriniz: 67846797\n",
      "Girilen sayının basamak sayısı: 8\n"
     ]
    }
   ],
   "source": [
    "sayi_gir = abs(int(input(\"Lutfen basamak sayisini merak ettiginiz sayiyi giriniz: \")))\n",
    "\n",
    "\n",
    "if int(sayi_gir)>0:\n",
    "    print(\"Girilen sayının basamak sayısı:\",len(str(sayi_gir)))\n",
    "          \n",
    "elif sayi_gir == 0:\n",
    "    print(\"Girilen sayının basamak sayısı:\" , 1)\n",
    "          \n",
    "else:\n",
    "    print(\"Girilen sayının basamak sayısı:\", len(str(sayi_gir))-1)"
   ]
  },
  {
   "cell_type": "code",
   "execution_count": null,
   "id": "e10c4e78",
   "metadata": {},
   "outputs": [],
   "source": []
  },
  {
   "cell_type": "code",
   "execution_count": null,
   "id": "4265093c",
   "metadata": {},
   "outputs": [],
   "source": []
  }
 ],
 "metadata": {
  "kernelspec": {
   "display_name": "Python 3 (ipykernel)",
   "language": "python",
   "name": "python3"
  },
  "language_info": {
   "codemirror_mode": {
    "name": "ipython",
    "version": 3
   },
   "file_extension": ".py",
   "mimetype": "text/x-python",
   "name": "python",
   "nbconvert_exporter": "python",
   "pygments_lexer": "ipython3",
   "version": "3.11.4"
  }
 },
 "nbformat": 4,
 "nbformat_minor": 5
}
