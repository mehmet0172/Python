{
 "cells": [
  {
   "cell_type": "code",
   "execution_count": null,
   "id": "0a39cbed-76e6-40f7-89db-8bf4bdf0ed1d",
   "metadata": {},
   "outputs": [],
   "source": [
    "cnc_kod = \"\"\"\n",
    "T0101\\n \n",
    "\"\"\""
   ]
  }
 ],
 "metadata": {
  "kernelspec": {
   "display_name": "Python 3 (ipykernel)",
   "language": "python",
   "name": "python3"
  },
  "language_info": {
   "codemirror_mode": {
    "name": "ipython",
    "version": 3
   },
   "file_extension": ".py",
   "mimetype": "text/x-python",
   "name": "python",
   "nbconvert_exporter": "python",
   "pygments_lexer": "ipython3",
   "version": "3.11.4"
  }
 },
 "nbformat": 4,
 "nbformat_minor": 5
}
